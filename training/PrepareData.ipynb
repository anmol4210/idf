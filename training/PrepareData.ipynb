{
 "cells": [
  {
   "cell_type": "code",
   "execution_count": 1,
   "metadata": {},
   "outputs": [],
   "source": [
    "import os\n",
    "import numpy as np\n",
    "import pandas as pd\n",
    "import re\n",
    "from tqdm import tqdm\n",
    "import glob"
   ]
  },
  {
   "cell_type": "code",
   "execution_count": 2,
   "metadata": {},
   "outputs": [],
   "source": [
    "def pre_process_tag(tag):\n",
    "    tag = tag.replace(\" \",\"_\")\n",
    "    tag = tag.replace('\"',\"\")\n",
    "    tag = tag.lower()\n",
    "    return tag"
   ]
  },
  {
   "cell_type": "code",
   "execution_count": 3,
   "metadata": {},
   "outputs": [
    {
     "name": "stderr",
     "output_type": "stream",
     "text": [
      "100%|██████████| 240/240 [00:00<00:00, 192362.50it/s]"
     ]
    },
    {
     "name": "stdout",
     "output_type": "stream",
     "text": [
      "bank_bailout         : 6\n",
      "budget               : 22\n",
      "credit_card          : 41\n",
      "family_finance       : 63\n",
      "job_benefits         : 54\n",
      "taxes                : 54\n"
     ]
    },
    {
     "name": "stderr",
     "output_type": "stream",
     "text": [
      "\n"
     ]
    }
   ],
   "source": [
    "train_folder = './data/train/'\n",
    "\n",
    "with open('./tagging_test/metadata/mapping_conv_topic.train.txt') as f:\n",
    "    lines = f.readlines()\n",
    "mapping = {}\n",
    "for line in tqdm(lines):\n",
    "    id_,tag = line.strip().split(' \"')\n",
    "    mapping[id_] = pre_process_tag(tag)\n",
    "\n",
    "\n",
    "\n",
    "data_distribution = np.unique(list(mapping.values()),return_counts=True)\n",
    "for key,count in zip(data_distribution[0],data_distribution[1]):\n",
    "    print(f'{key:20} : {count}')\n",
    "    os.makedirs(f'{train_folder}{key}',exist_ok=True)"
   ]
  },
  {
   "cell_type": "code",
   "execution_count": 4,
   "metadata": {},
   "outputs": [],
   "source": [
    "def pre_process_conversation(file_path):\n",
    "    with open(text_file) as f:\n",
    "        lines = f.readlines()\n",
    "    conversation = []\n",
    "    all_text = ''\n",
    "    for line in lines:\n",
    "        tokens = line.strip().split(\" \")\n",
    "        if len(tokens)>4:\n",
    "            text = \" \".join(tokens[3:])\n",
    "            text = text.replace(\"[silence]\",\"\")\n",
    "            text = text.replace(\"[noise]\",\"\")\n",
    "            text = re.sub('[^a-zA-Z ]','',text)\n",
    "            conversation.append(text)\n",
    "            conversation.append(tokens[0])\n",
    "            all_text+=text + ' '\n",
    "    return all_text,conversation"
   ]
  },
  {
   "cell_type": "code",
   "execution_count": 5,
   "metadata": {},
   "outputs": [
    {
     "name": "stdout",
     "output_type": "stream",
     "text": [
      "240\n"
     ]
    }
   ],
   "source": [
    "text_files = glob.glob('./tagging_test/*.txt')\n",
    "print(len(text_files))"
   ]
  },
  {
   "cell_type": "code",
   "execution_count": 6,
   "metadata": {
    "scrolled": true
   },
   "outputs": [
    {
     "name": "stderr",
     "output_type": "stream",
     "text": [
      "100%|██████████| 240/240 [00:00<00:00, 270.38it/s]\n"
     ]
    }
   ],
   "source": [
    "\n",
    "dict_ = {\"text\":[],\"class\":[],\"file_id\":[]}\n",
    "for text_file in tqdm(text_files):\n",
    "    all_text,conversation = pre_process_conversation(text_file)\n",
    "    file_id = text_file.split('/')[-1].split(\".\")[1]\n",
    "    conversation_topic = mapping[file_id]\n",
    "    dict_['file_id'].append(file_id)\n",
    "    dict_['text'].append(all_text)\n",
    "    dict_['class'].append(conversation_topic)\n",
    "    with open(f'{train_folder}{conversation_topic}/{file_id}.txt','w') as f:\n",
    "        f.write(all_text)\n",
    "    \n"
   ]
  },
  {
   "cell_type": "code",
   "execution_count": 7,
   "metadata": {},
   "outputs": [
    {
     "data": {
      "text/html": [
       "<div>\n",
       "<style scoped>\n",
       "    .dataframe tbody tr th:only-of-type {\n",
       "        vertical-align: middle;\n",
       "    }\n",
       "\n",
       "    .dataframe tbody tr th {\n",
       "        vertical-align: top;\n",
       "    }\n",
       "\n",
       "    .dataframe thead th {\n",
       "        text-align: right;\n",
       "    }\n",
       "</style>\n",
       "<table border=\"1\" class=\"dataframe\">\n",
       "  <thead>\n",
       "    <tr style=\"text-align: right;\">\n",
       "      <th></th>\n",
       "      <th>text</th>\n",
       "      <th>class</th>\n",
       "      <th>file_id</th>\n",
       "    </tr>\n",
       "  </thead>\n",
       "  <tbody>\n",
       "    <tr>\n",
       "      <th>0</th>\n",
       "      <td>okay so um yes we do keep uh well we started o...</td>\n",
       "      <td>family_finance</td>\n",
       "      <td>2022</td>\n",
       "    </tr>\n",
       "    <tr>\n",
       "      <th>1</th>\n",
       "      <td>all right uh weve got a lot of them laughter t...</td>\n",
       "      <td>credit_card</td>\n",
       "      <td>2023</td>\n",
       "    </tr>\n",
       "    <tr>\n",
       "      <th>2</th>\n",
       "      <td>hello hey how you doing not bad not bad Whats...</td>\n",
       "      <td>credit_card</td>\n",
       "      <td>2061</td>\n",
       "    </tr>\n",
       "    <tr>\n",
       "      <th>3</th>\n",
       "      <td>well um with credit cards is me i i try to kee...</td>\n",
       "      <td>credit_card</td>\n",
       "      <td>2067</td>\n",
       "    </tr>\n",
       "    <tr>\n",
       "      <th>4</th>\n",
       "      <td>hi how are you doing uh i couldnt hear you i s...</td>\n",
       "      <td>job_benefits</td>\n",
       "      <td>2085</td>\n",
       "    </tr>\n",
       "  </tbody>\n",
       "</table>\n",
       "</div>"
      ],
      "text/plain": [
       "                                                text           class file_id\n",
       "0  okay so um yes we do keep uh well we started o...  family_finance    2022\n",
       "1  all right uh weve got a lot of them laughter t...     credit_card    2023\n",
       "2   hello hey how you doing not bad not bad Whats...     credit_card    2061\n",
       "3  well um with credit cards is me i i try to kee...     credit_card    2067\n",
       "4  hi how are you doing uh i couldnt hear you i s...    job_benefits    2085"
      ]
     },
     "execution_count": 7,
     "metadata": {},
     "output_type": "execute_result"
    }
   ],
   "source": [
    "df = pd.DataFrame(dict_)\n",
    "df.head()"
   ]
  },
  {
   "cell_type": "code",
   "execution_count": 8,
   "metadata": {},
   "outputs": [],
   "source": [
    "df.to_csv('./data/data.csv',index=False)"
   ]
  },
  {
   "cell_type": "code",
   "execution_count": null,
   "metadata": {},
   "outputs": [],
   "source": []
  }
 ],
 "metadata": {
  "kernelspec": {
   "display_name": "Python 3",
   "language": "python",
   "name": "python3"
  },
  "language_info": {
   "codemirror_mode": {
    "name": "ipython",
    "version": 3
   },
   "file_extension": ".py",
   "mimetype": "text/x-python",
   "name": "python",
   "nbconvert_exporter": "python",
   "pygments_lexer": "ipython3",
   "version": "3.6.9"
  }
 },
 "nbformat": 4,
 "nbformat_minor": 4
}
